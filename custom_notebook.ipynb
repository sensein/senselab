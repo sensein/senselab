{
 "cells": [
  {
   "cell_type": "code",
   "execution_count": 1,
   "id": "a737f1eb-64b0-48ec-9195-990d2b84bd4d",
   "metadata": {},
   "outputs": [
    {
     "name": "stdout",
     "output_type": "stream",
     "text": [
      "\n",
      "\u001b[1m[\u001b[0m\u001b[34;49mnotice\u001b[0m\u001b[1;39;49m]\u001b[0m\u001b[39;49m A new release of pip is available: \u001b[0m\u001b[31;49m25.1.1\u001b[0m\u001b[39;49m -> \u001b[0m\u001b[32;49m25.2\u001b[0m\n",
      "\u001b[1m[\u001b[0m\u001b[34;49mnotice\u001b[0m\u001b[1;39;49m]\u001b[0m\u001b[39;49m To update, run: \u001b[0m\u001b[32;49mpip install --upgrade pip\u001b[0m\n",
      "Note: you may need to restart the kernel to use updated packages.\n"
     ]
    }
   ],
   "source": [
    "# Install senselab\n",
    "%pip install senselab --quiet"
   ]
  },
  {
   "cell_type": "markdown",
   "id": "0815ed31-49c4-479c-9f02-cccdc40c17ec",
   "metadata": {},
   "source": [
    "# Audio Processing with SenseLab\n",
    "This notebook demonstrates how to use the SenseLab library to read audio files, convert them to mono and 16kHz, and visualize their waveforms and spectrograms."
   ]
  },
  {
   "cell_type": "code",
   "execution_count": 9,
   "id": "56785e48-08eb-404e-b47d-fd8ff1da2951",
   "metadata": {},
   "outputs": [],
   "source": [
    "# Import necessary libraries\n",
    "from senselab.audio.tasks.input_output import read_audios\n",
    "from senselab.audio.tasks.preprocessing import downmix_audios_to_mono, resample_audios"
   ]
  },
  {
   "cell_type": "code",
   "execution_count": 14,
   "id": "d9f06d8d-2dac-4739-9e99-d8731e45677f",
   "metadata": {},
   "outputs": [
    {
     "ename": "ImportError",
     "evalue": "cannot import name 'plot_waveform_and_specgram' from 'senselab.audio.tasks.plotting.plotting' (/Users/fabiocat/git/senselab/src/senselab/audio/tasks/plotting/plotting.py)",
     "output_type": "error",
     "traceback": [
      "\u001b[31m---------------------------------------------------------------------------\u001b[39m",
      "\u001b[31mImportError\u001b[39m                               Traceback (most recent call last)",
      "\u001b[36mCell\u001b[39m\u001b[36m \u001b[39m\u001b[32mIn[14]\u001b[39m\u001b[32m, line 1\u001b[39m\n\u001b[32m----> \u001b[39m\u001b[32m1\u001b[39m \u001b[38;5;28;01mfrom\u001b[39;00m\u001b[38;5;250m \u001b[39m\u001b[34;01msenselab\u001b[39;00m\u001b[34;01m.\u001b[39;00m\u001b[34;01maudio\u001b[39;00m\u001b[34;01m.\u001b[39;00m\u001b[34;01mtasks\u001b[39;00m\u001b[34;01m.\u001b[39;00m\u001b[34;01mplotting\u001b[39;00m\u001b[34;01m.\u001b[39;00m\u001b[34;01mplotting\u001b[39;00m\u001b[38;5;250m \u001b[39m\u001b[38;5;28;01mimport\u001b[39;00m plot_waveform_and_specgram\n",
      "\u001b[31mImportError\u001b[39m: cannot import name 'plot_waveform_and_specgram' from 'senselab.audio.tasks.plotting.plotting' (/Users/fabiocat/git/senselab/src/senselab/audio/tasks/plotting/plotting.py)"
     ]
    }
   ],
   "source": [
    "from senselab.audio.tasks.plotting.plotting import plot_waveform_and_specgram"
   ]
  },
  {
   "cell_type": "code",
   "execution_count": 12,
   "id": "d9f10874-e380-4923-827b-2a0b24e5e168",
   "metadata": {},
   "outputs": [],
   "source": [
    "import senselab.audio.tasks.plotting.plotting as aa"
   ]
  },
  {
   "cell_type": "code",
   "execution_count": 13,
   "id": "a7769b00-d9e2-42a7-b692-9be34119ac39",
   "metadata": {},
   "outputs": [
    {
     "data": {
      "text/plain": [
       "<module 'senselab.audio.tasks.plotting.plotting' from '/Users/fabiocat/git/senselab/src/senselab/audio/tasks/plotting/plotting.py'>"
      ]
     },
     "execution_count": 13,
     "metadata": {},
     "output_type": "execute_result"
    }
   ],
   "source": [
    "aa"
   ]
  },
  {
   "cell_type": "markdown",
   "id": "5348a3b8-6fea-41e0-98de-1180729b4684",
   "metadata": {},
   "source": [
    "## Step 1: Reading Audio Files\n",
    "We will read audio files from the directory 'tutorials/audio/tutorial_audio_files/' using SenseLab's `read_audios` function."
   ]
  },
  {
   "cell_type": "code",
   "execution_count": 3,
   "id": "20866834-2471-4e93-b0a4-b65a39866fd5",
   "metadata": {},
   "outputs": [
    {
     "ename": "FileNotFoundError",
     "evalue": "File tutorials/audio/tutorial_audio_files/audio_48khz_mono_16bits.wav does not exist.",
     "output_type": "error",
     "traceback": [
      "\u001b[31m---------------------------------------------------------------------------\u001b[39m",
      "\u001b[31mFileNotFoundError\u001b[39m                         Traceback (most recent call last)",
      "\u001b[36mCell\u001b[39m\u001b[36m \u001b[39m\u001b[32mIn[3]\u001b[39m\u001b[32m, line 9\u001b[39m\n\u001b[32m      6\u001b[39m audio_files = [os.path.join(audio_directory, file) \u001b[38;5;28;01mfor\u001b[39;00m file \u001b[38;5;129;01min\u001b[39;00m os.listdir(audio_directory) \u001b[38;5;28;01mif\u001b[39;00m file.endswith(\u001b[33m'\u001b[39m\u001b[33m.wav\u001b[39m\u001b[33m'\u001b[39m)]\n\u001b[32m      8\u001b[39m \u001b[38;5;66;03m# Load audio files\u001b[39;00m\n\u001b[32m----> \u001b[39m\u001b[32m9\u001b[39m audio_objects = \u001b[43mread_audios\u001b[49m\u001b[43m(\u001b[49m\u001b[43maudio_files\u001b[49m\u001b[43m)\u001b[49m\n",
      "\u001b[36mFile \u001b[39m\u001b[32m~/git/senselab/src/senselab/audio/tasks/input_output/utils.py:43\u001b[39m, in \u001b[36mread_audios\u001b[39m\u001b[34m(file_paths, cache_dir, plugin, plugin_args)\u001b[39m\n\u001b[32m     40\u001b[39m     \u001b[38;5;28;01mreturn\u001b[39;00m node.out\n\u001b[32m     42\u001b[39m worker = \u001b[33m\"\u001b[39m\u001b[33mdebug\u001b[39m\u001b[33m\"\u001b[39m \u001b[38;5;28;01mif\u001b[39;00m plugin \u001b[38;5;129;01min\u001b[39;00m (\u001b[33m\"\u001b[39m\u001b[33mserial\u001b[39m\u001b[33m\"\u001b[39m, \u001b[33m\"\u001b[39m\u001b[33mdebug\u001b[39m\u001b[33m\"\u001b[39m) \u001b[38;5;28;01melse\u001b[39;00m plugin\n\u001b[32m---> \u001b[39m\u001b[32m43\u001b[39m res = \u001b[43m_wf\u001b[49m\u001b[43m(\u001b[49m\u001b[43mxs\u001b[49m\u001b[43m=\u001b[49m\u001b[43mfile_paths\u001b[49m\u001b[43m)\u001b[49m\u001b[43m(\u001b[49m\u001b[43mworker\u001b[49m\u001b[43m=\u001b[49m\u001b[43mworker\u001b[49m\u001b[43m,\u001b[49m\u001b[43m \u001b[49m\u001b[43mcache_root\u001b[49m\u001b[43m=\u001b[49m\u001b[43mcache_dir\u001b[49m\u001b[43m,\u001b[49m\u001b[43m \u001b[49m\u001b[43m*\u001b[49m\u001b[43m*\u001b[49m\u001b[43mplugin_args\u001b[49m\u001b[43m)\u001b[49m\n\u001b[32m     44\u001b[39m \u001b[38;5;28;01mreturn\u001b[39;00m \u001b[38;5;28mlist\u001b[39m(res.out)\n",
      "\u001b[36mFile \u001b[39m\u001b[32m~/Library/Caches/pypoetry/virtualenvs/senselab-KP8v1V64-py3.12/lib/python3.12/site-packages/pydra/compose/base/task.py:247\u001b[39m, in \u001b[36mTask.__call__\u001b[39m\u001b[34m(self, cache_root, worker, environment, rerun, readonly_caches, audit_flags, messengers, messenger_args, hooks, **kwargs)\u001b[39m\n\u001b[32m    236\u001b[39m \u001b[38;5;28;01mtry\u001b[39;00m:\n\u001b[32m    237\u001b[39m     \u001b[38;5;28;01mwith\u001b[39;00m Submitter(\n\u001b[32m    238\u001b[39m         audit_flags=audit_flags,\n\u001b[32m    239\u001b[39m         cache_root=cache_root,\n\u001b[32m   (...)\u001b[39m\u001b[32m    245\u001b[39m         **kwargs,\n\u001b[32m    246\u001b[39m     ) \u001b[38;5;28;01mas\u001b[39;00m sub:\n\u001b[32m--> \u001b[39m\u001b[32m247\u001b[39m         result = \u001b[43msub\u001b[49m\u001b[43m(\u001b[49m\n\u001b[32m    248\u001b[39m \u001b[43m            \u001b[49m\u001b[38;5;28;43mself\u001b[39;49m\u001b[43m,\u001b[49m\n\u001b[32m    249\u001b[39m \u001b[43m            \u001b[49m\u001b[43mhooks\u001b[49m\u001b[43m=\u001b[49m\u001b[43mhooks\u001b[49m\u001b[43m,\u001b[49m\n\u001b[32m    250\u001b[39m \u001b[43m            \u001b[49m\u001b[43mrerun\u001b[49m\u001b[43m=\u001b[49m\u001b[43mrerun\u001b[49m\u001b[43m,\u001b[49m\n\u001b[32m    251\u001b[39m \u001b[43m        \u001b[49m\u001b[43m)\u001b[49m\n\u001b[32m    252\u001b[39m \u001b[38;5;28;01mexcept\u001b[39;00m \u001b[38;5;167;01mTypeError\u001b[39;00m \u001b[38;5;28;01mas\u001b[39;00m e:\n\u001b[32m    253\u001b[39m     \u001b[38;5;66;03m# Catch any inadvertent passing of task parameters to the\u001b[39;00m\n\u001b[32m    254\u001b[39m     \u001b[38;5;66;03m# execution call\u001b[39;00m\n\u001b[32m    255\u001b[39m     \u001b[38;5;28;01mif\u001b[39;00m \u001b[38;5;28mhasattr\u001b[39m(e, \u001b[33m\"\u001b[39m\u001b[33m__notes__\u001b[39m\u001b[33m\"\u001b[39m) \u001b[38;5;129;01mand\u001b[39;00m WORKER_KWARG_FAIL_NOTE \u001b[38;5;129;01min\u001b[39;00m e.__notes__:\n",
      "\u001b[36mFile \u001b[39m\u001b[32m~/Library/Caches/pypoetry/virtualenvs/senselab-KP8v1V64-py3.12/lib/python3.12/site-packages/pydra/engine/submitter.py:265\u001b[39m, in \u001b[36mSubmitter.__call__\u001b[39m\u001b[34m(self, task, hooks, raise_errors, rerun)\u001b[39m\n\u001b[32m    263\u001b[39m exc.add_note(error_msg)\n\u001b[32m    264\u001b[39m \u001b[38;5;28;01mif\u001b[39;00m raise_errors \u001b[38;5;129;01mor\u001b[39;00m \u001b[38;5;129;01mnot\u001b[39;00m job.result():\n\u001b[32m--> \u001b[39m\u001b[32m265\u001b[39m     \u001b[38;5;28;01mraise\u001b[39;00m exc\n\u001b[32m    266\u001b[39m \u001b[38;5;28;01melse\u001b[39;00m:\n\u001b[32m    267\u001b[39m     logger.error(\u001b[33m\"\u001b[39m\u001b[38;5;130;01m\\n\u001b[39;00m\u001b[33mTask execution failed\u001b[39m\u001b[38;5;130;01m\\n\u001b[39;00m\u001b[38;5;132;01m%s\u001b[39;00m\u001b[33m\"\u001b[39m, error_msg)\n",
      "\u001b[36mFile \u001b[39m\u001b[32m~/Library/Caches/pypoetry/virtualenvs/senselab-KP8v1V64-py3.12/lib/python3.12/site-packages/pydra/engine/submitter.py:257\u001b[39m, in \u001b[36mSubmitter.__call__\u001b[39m\u001b[34m(self, task, hooks, raise_errors, rerun)\u001b[39m\n\u001b[32m    255\u001b[39m \u001b[38;5;28;01mtry\u001b[39;00m:\n\u001b[32m    256\u001b[39m     \u001b[38;5;28mself\u001b[39m.run_start_time = datetime.now()\n\u001b[32m--> \u001b[39m\u001b[32m257\u001b[39m     \u001b[38;5;28;43mself\u001b[39;49m\u001b[43m.\u001b[49m\u001b[43msubmit\u001b[49m\u001b[43m(\u001b[49m\u001b[43mjob\u001b[49m\u001b[43m,\u001b[49m\u001b[43m \u001b[49m\u001b[43mrerun\u001b[49m\u001b[43m=\u001b[49m\u001b[43mrerun\u001b[49m\u001b[43m)\u001b[49m\n\u001b[32m    258\u001b[39m \u001b[38;5;28;01mexcept\u001b[39;00m \u001b[38;5;167;01mException\u001b[39;00m \u001b[38;5;28;01mas\u001b[39;00m exc:\n\u001b[32m    259\u001b[39m     error_msg = (\n\u001b[32m    260\u001b[39m         \u001b[33mf\u001b[39m\u001b[33m\"\u001b[39m\u001b[33mFull crash report for \u001b[39m\u001b[38;5;132;01m{\u001b[39;00m\u001b[38;5;28mtype\u001b[39m(task).\u001b[34m__name__\u001b[39m\u001b[38;5;132;01m!r}\u001b[39;00m\u001b[33m job is here: \u001b[39m\u001b[33m\"\u001b[39m\n\u001b[32m    261\u001b[39m         + \u001b[38;5;28mstr\u001b[39m(job.cache_dir / \u001b[33m\"\u001b[39m\u001b[33m_error.pklz\u001b[39m\u001b[33m\"\u001b[39m)\n\u001b[32m    262\u001b[39m     )\n",
      "\u001b[36mFile \u001b[39m\u001b[32m~/Library/Caches/pypoetry/virtualenvs/senselab-KP8v1V64-py3.12/lib/python3.12/site-packages/pydra/engine/submitter.py:298\u001b[39m, in \u001b[36mSubmitter.submit\u001b[39m\u001b[34m(self, job, rerun)\u001b[39m\n\u001b[32m    296\u001b[39m     \u001b[38;5;28mself\u001b[39m.loop.run_until_complete(\u001b[38;5;28mself\u001b[39m.worker.submit(job, rerun=rerun))\n\u001b[32m    297\u001b[39m \u001b[38;5;28;01melse\u001b[39;00m:\n\u001b[32m--> \u001b[39m\u001b[32m298\u001b[39m     \u001b[38;5;28;43mself\u001b[39;49m\u001b[43m.\u001b[49m\u001b[43mworker\u001b[49m\u001b[43m.\u001b[49m\u001b[43mrun\u001b[49m\u001b[43m(\u001b[49m\u001b[43mjob\u001b[49m\u001b[43m,\u001b[49m\u001b[43m \u001b[49m\u001b[43mrerun\u001b[49m\u001b[43m=\u001b[49m\u001b[43mrerun\u001b[49m\u001b[43m)\u001b[49m\n",
      "\u001b[36mFile \u001b[39m\u001b[32m~/Library/Caches/pypoetry/virtualenvs/senselab-KP8v1V64-py3.12/lib/python3.12/site-packages/pydra/workers/debug.py:22\u001b[39m, in \u001b[36mDebugWorker.run\u001b[39m\u001b[34m(self, job, rerun)\u001b[39m\n\u001b[32m     16\u001b[39m \u001b[38;5;28;01mdef\u001b[39;00m\u001b[38;5;250m \u001b[39m\u001b[34mrun\u001b[39m(\n\u001b[32m     17\u001b[39m     \u001b[38;5;28mself\u001b[39m,\n\u001b[32m     18\u001b[39m     job: \u001b[33m\"\u001b[39m\u001b[33mJob[base.TaskType]\u001b[39m\u001b[33m\"\u001b[39m,\n\u001b[32m     19\u001b[39m     rerun: \u001b[38;5;28mbool\u001b[39m = \u001b[38;5;28;01mFalse\u001b[39;00m,\n\u001b[32m     20\u001b[39m ) -> \u001b[33m\"\u001b[39m\u001b[33mResult\u001b[39m\u001b[33m\"\u001b[39m:\n\u001b[32m     21\u001b[39m \u001b[38;5;250m    \u001b[39m\u001b[33;03m\"\"\"Run a job.\"\"\"\u001b[39;00m\n\u001b[32m---> \u001b[39m\u001b[32m22\u001b[39m     \u001b[38;5;28;01mreturn\u001b[39;00m \u001b[43mjob\u001b[49m\u001b[43m.\u001b[49m\u001b[43mrun\u001b[49m\u001b[43m(\u001b[49m\u001b[43mrerun\u001b[49m\u001b[43m=\u001b[49m\u001b[43mrerun\u001b[49m\u001b[43m)\u001b[49m\n",
      "\u001b[36mFile \u001b[39m\u001b[32m~/Library/Caches/pypoetry/virtualenvs/senselab-KP8v1V64-py3.12/lib/python3.12/site-packages/pydra/engine/job.py:333\u001b[39m, in \u001b[36mJob.run\u001b[39m\u001b[34m(self, rerun)\u001b[39m\n\u001b[32m    331\u001b[39m \u001b[38;5;28;01mtry\u001b[39;00m:\n\u001b[32m    332\u001b[39m     \u001b[38;5;28mself\u001b[39m.audit.monitor()\n\u001b[32m--> \u001b[39m\u001b[32m333\u001b[39m     \u001b[38;5;28;43mself\u001b[39;49m\u001b[43m.\u001b[49m\u001b[43mtask\u001b[49m\u001b[43m.\u001b[49m\u001b[43m_run\u001b[49m\u001b[43m(\u001b[49m\u001b[38;5;28;43mself\u001b[39;49m\u001b[43m,\u001b[49m\u001b[43m \u001b[49m\u001b[43mrerun\u001b[49m\u001b[43m)\u001b[49m\n\u001b[32m    334\u001b[39m     result.outputs = \u001b[38;5;28mself\u001b[39m.task.Outputs._from_job(\u001b[38;5;28mself\u001b[39m)\n\u001b[32m    335\u001b[39m \u001b[38;5;28;01mexcept\u001b[39;00m \u001b[38;5;167;01mException\u001b[39;00m:\n",
      "\u001b[36mFile \u001b[39m\u001b[32m~/Library/Caches/pypoetry/virtualenvs/senselab-KP8v1V64-py3.12/lib/python3.12/site-packages/pydra/compose/workflow.py:363\u001b[39m, in \u001b[36mWorkflowTask._run\u001b[39m\u001b[34m(self, job, rerun)\u001b[39m\n\u001b[32m    361\u001b[39m \u001b[38;5;28;01mdef\u001b[39;00m\u001b[38;5;250m \u001b[39m\u001b[34m_run\u001b[39m(\u001b[38;5;28mself\u001b[39m, job: \u001b[33m\"\u001b[39m\u001b[33mJob[WorkflowTask]\u001b[39m\u001b[33m\"\u001b[39m, rerun: \u001b[38;5;28mbool\u001b[39m) -> \u001b[38;5;28;01mNone\u001b[39;00m:\n\u001b[32m    362\u001b[39m \u001b[38;5;250m    \u001b[39m\u001b[33;03m\"\"\"Run the workflow.\"\"\"\u001b[39;00m\n\u001b[32m--> \u001b[39m\u001b[32m363\u001b[39m     \u001b[43mjob\u001b[49m\u001b[43m.\u001b[49m\u001b[43msubmitter\u001b[49m\u001b[43m.\u001b[49m\u001b[43mexpand_workflow\u001b[49m\u001b[43m(\u001b[49m\u001b[43mjob\u001b[49m\u001b[43m,\u001b[49m\u001b[43m \u001b[49m\u001b[43mrerun\u001b[49m\u001b[43m)\u001b[49m\n",
      "\u001b[36mFile \u001b[39m\u001b[32m~/Library/Caches/pypoetry/virtualenvs/senselab-KP8v1V64-py3.12/lib/python3.12/site-packages/pydra/engine/submitter.py:331\u001b[39m, in \u001b[36mSubmitter.expand_workflow\u001b[39m\u001b[34m(self, workflow_task, rerun)\u001b[39m\n\u001b[32m    329\u001b[39m \u001b[38;5;28;01mwhile\u001b[39;00m tasks \u001b[38;5;129;01mor\u001b[39;00m \u001b[38;5;28many\u001b[39m(\u001b[38;5;129;01mnot\u001b[39;00m n.done \u001b[38;5;28;01mfor\u001b[39;00m n \u001b[38;5;129;01min\u001b[39;00m exec_graph.nodes):\n\u001b[32m    330\u001b[39m     \u001b[38;5;28;01mfor\u001b[39;00m job \u001b[38;5;129;01min\u001b[39;00m tasks:\n\u001b[32m--> \u001b[39m\u001b[32m331\u001b[39m         \u001b[38;5;28;43mself\u001b[39;49m\u001b[43m.\u001b[49m\u001b[43mworker\u001b[49m\u001b[43m.\u001b[49m\u001b[43mrun\u001b[49m\u001b[43m(\u001b[49m\u001b[43mjob\u001b[49m\u001b[43m,\u001b[49m\u001b[43m \u001b[49m\u001b[43mrerun\u001b[49m\u001b[43m=\u001b[49m\u001b[43mrerun\u001b[49m\u001b[43m \u001b[49m\u001b[38;5;129;43;01mand\u001b[39;49;00m\u001b[43m \u001b[49m\u001b[38;5;28;43mself\u001b[39;49m\u001b[43m.\u001b[49m\u001b[43mpropagate_rerun\u001b[49m\u001b[43m)\u001b[49m\n\u001b[32m    332\u001b[39m     tasks = \u001b[38;5;28mself\u001b[39m.get_runnable_tasks(exec_graph)\n",
      "\u001b[36mFile \u001b[39m\u001b[32m~/Library/Caches/pypoetry/virtualenvs/senselab-KP8v1V64-py3.12/lib/python3.12/site-packages/pydra/workers/debug.py:22\u001b[39m, in \u001b[36mDebugWorker.run\u001b[39m\u001b[34m(self, job, rerun)\u001b[39m\n\u001b[32m     16\u001b[39m \u001b[38;5;28;01mdef\u001b[39;00m\u001b[38;5;250m \u001b[39m\u001b[34mrun\u001b[39m(\n\u001b[32m     17\u001b[39m     \u001b[38;5;28mself\u001b[39m,\n\u001b[32m     18\u001b[39m     job: \u001b[33m\"\u001b[39m\u001b[33mJob[base.TaskType]\u001b[39m\u001b[33m\"\u001b[39m,\n\u001b[32m     19\u001b[39m     rerun: \u001b[38;5;28mbool\u001b[39m = \u001b[38;5;28;01mFalse\u001b[39;00m,\n\u001b[32m     20\u001b[39m ) -> \u001b[33m\"\u001b[39m\u001b[33mResult\u001b[39m\u001b[33m\"\u001b[39m:\n\u001b[32m     21\u001b[39m \u001b[38;5;250m    \u001b[39m\u001b[33;03m\"\"\"Run a job.\"\"\"\u001b[39;00m\n\u001b[32m---> \u001b[39m\u001b[32m22\u001b[39m     \u001b[38;5;28;01mreturn\u001b[39;00m \u001b[43mjob\u001b[49m\u001b[43m.\u001b[49m\u001b[43mrun\u001b[49m\u001b[43m(\u001b[49m\u001b[43mrerun\u001b[49m\u001b[43m=\u001b[49m\u001b[43mrerun\u001b[49m\u001b[43m)\u001b[49m\n",
      "\u001b[36mFile \u001b[39m\u001b[32m~/Library/Caches/pypoetry/virtualenvs/senselab-KP8v1V64-py3.12/lib/python3.12/site-packages/pydra/engine/job.py:333\u001b[39m, in \u001b[36mJob.run\u001b[39m\u001b[34m(self, rerun)\u001b[39m\n\u001b[32m    331\u001b[39m \u001b[38;5;28;01mtry\u001b[39;00m:\n\u001b[32m    332\u001b[39m     \u001b[38;5;28mself\u001b[39m.audit.monitor()\n\u001b[32m--> \u001b[39m\u001b[32m333\u001b[39m     \u001b[38;5;28;43mself\u001b[39;49m\u001b[43m.\u001b[49m\u001b[43mtask\u001b[49m\u001b[43m.\u001b[49m\u001b[43m_run\u001b[49m\u001b[43m(\u001b[49m\u001b[38;5;28;43mself\u001b[39;49m\u001b[43m,\u001b[49m\u001b[43m \u001b[49m\u001b[43mrerun\u001b[49m\u001b[43m)\u001b[49m\n\u001b[32m    334\u001b[39m     result.outputs = \u001b[38;5;28mself\u001b[39m.task.Outputs._from_job(\u001b[38;5;28mself\u001b[39m)\n\u001b[32m    335\u001b[39m \u001b[38;5;28;01mexcept\u001b[39;00m \u001b[38;5;167;01mException\u001b[39;00m:\n",
      "\u001b[36mFile \u001b[39m\u001b[32m~/Library/Caches/pypoetry/virtualenvs/senselab-KP8v1V64-py3.12/lib/python3.12/site-packages/pydra/compose/python.py:232\u001b[39m, in \u001b[36mPythonTask._run\u001b[39m\u001b[34m(self, job, rerun)\u001b[39m\n\u001b[32m    230\u001b[39m \u001b[38;5;28;01mdel\u001b[39;00m inputs[\u001b[33m\"\u001b[39m\u001b[33mfunction\u001b[39m\u001b[33m\"\u001b[39m]\n\u001b[32m    231\u001b[39m \u001b[38;5;66;03m# Run the actual function\u001b[39;00m\n\u001b[32m--> \u001b[39m\u001b[32m232\u001b[39m returned = \u001b[38;5;28;43mself\u001b[39;49m\u001b[43m.\u001b[49m\u001b[43mfunction\u001b[49m\u001b[43m(\u001b[49m\u001b[43m*\u001b[49m\u001b[43m*\u001b[49m\u001b[43minputs\u001b[49m\u001b[43m)\u001b[49m\n\u001b[32m    233\u001b[39m \u001b[38;5;66;03m# Collect the outputs and save them into the job.return_values dictionary\u001b[39;00m\n\u001b[32m    234\u001b[39m return_names = [f.name \u001b[38;5;28;01mfor\u001b[39;00m f \u001b[38;5;129;01min\u001b[39;00m get_fields(\u001b[38;5;28mself\u001b[39m.Outputs)]\n",
      "\u001b[36mFile \u001b[39m\u001b[32m~/git/senselab/src/senselab/audio/tasks/input_output/utils.py:32\u001b[39m, in \u001b[36mread_audios.<locals>._load_audio_file\u001b[39m\u001b[34m(path)\u001b[39m\n\u001b[32m     30\u001b[39m \u001b[38;5;129m@python\u001b[39m.define\n\u001b[32m     31\u001b[39m \u001b[38;5;28;01mdef\u001b[39;00m\u001b[38;5;250m \u001b[39m\u001b[34m_load_audio_file\u001b[39m(path: \u001b[38;5;28mstr\u001b[39m | os.PathLike) -> Audio:\n\u001b[32m---> \u001b[39m\u001b[32m32\u001b[39m     \u001b[38;5;28;01mreturn\u001b[39;00m \u001b[43mAudio\u001b[49m\u001b[43m(\u001b[49m\u001b[43mfilepath\u001b[49m\u001b[43m=\u001b[49m\u001b[43mpath\u001b[49m\u001b[43m)\u001b[49m\n",
      "\u001b[36mFile \u001b[39m\u001b[32m~/git/senselab/src/senselab/audio/data_structures/audio.py:88\u001b[39m, in \u001b[36mAudio.__init__\u001b[39m\u001b[34m(self, **data)\u001b[39m\n\u001b[32m     86\u001b[39m     \u001b[38;5;28;01mraise\u001b[39;00m \u001b[38;5;167;01mValueError\u001b[39;00m(\u001b[33m\"\u001b[39m\u001b[33mEither a waveform or a valid filepath must be provided to construct an Audio object.\u001b[39m\u001b[33m\"\u001b[39m)\n\u001b[32m     87\u001b[39m \u001b[38;5;28;01melif\u001b[39;00m \u001b[38;5;129;01mnot\u001b[39;00m os.path.exists(filepath):\n\u001b[32m---> \u001b[39m\u001b[32m88\u001b[39m     \u001b[38;5;28;01mraise\u001b[39;00m \u001b[38;5;167;01mFileNotFoundError\u001b[39;00m(\u001b[33mf\u001b[39m\u001b[33m\"\u001b[39m\u001b[33mFile \u001b[39m\u001b[38;5;132;01m{\u001b[39;00mfilepath\u001b[38;5;132;01m}\u001b[39;00m\u001b[33m does not exist.\u001b[39m\u001b[33m\"\u001b[39m)\n\u001b[32m     89\u001b[39m \u001b[38;5;28;01melse\u001b[39;00m:\n\u001b[32m     90\u001b[39m     \u001b[38;5;28mself\u001b[39m._file_path = filepath\n",
      "\u001b[31mFileNotFoundError\u001b[39m: File tutorials/audio/tutorial_audio_files/audio_48khz_mono_16bits.wav does not exist.",
      "Full crash report for '_wf' job is here: /Users/fabiocat/Library/Caches/pydra/1.0a2/run-cache/workflow-256d1fed00ee51d4af91b6e4ce464d2b/_error.pklz"
     ]
    }
   ],
   "source": [
    "# Define the path to audio files\n",
    "audio_directory = 'tutorials/audio/tutorial_audio_files/'\n",
    "\n",
    "# List of audio files\n",
    "import os\n",
    "audio_files = [os.path.join(audio_directory, file) for file in os.listdir(audio_directory) if file.endswith('.wav')]\n",
    "\n",
    "# Load audio files\n",
    "audio_objects = read_audios(audio_files)"
   ]
  },
  {
   "cell_type": "markdown",
   "id": "f7ffeaaa-7d24-4b1d-a9d1-a39cbf7af13e",
   "metadata": {},
   "source": [
    "## Step 2: Preprocessing - Convert to Mono and Resample\n",
    "Next, we will convert these audio files to mono and resample them to 16kHz using SenseLab's preprocessing functions."
   ]
  },
  {
   "cell_type": "code",
   "execution_count": 4,
   "id": "603147d0-ba95-4968-b6b0-2f62dea1676a",
   "metadata": {},
   "outputs": [
    {
     "ename": "NameError",
     "evalue": "name 'audio_objects' is not defined",
     "output_type": "error",
     "traceback": [
      "\u001b[31m---------------------------------------------------------------------------\u001b[39m",
      "\u001b[31mNameError\u001b[39m                                 Traceback (most recent call last)",
      "\u001b[36mCell\u001b[39m\u001b[36m \u001b[39m\u001b[32mIn[4]\u001b[39m\u001b[32m, line 2\u001b[39m\n\u001b[32m      1\u001b[39m \u001b[38;5;66;03m# Downmix audio objects to mono\u001b[39;00m\n\u001b[32m----> \u001b[39m\u001b[32m2\u001b[39m audio_mono = downmix_audios_to_mono(\u001b[43maudio_objects\u001b[49m)\n\u001b[32m      4\u001b[39m \u001b[38;5;66;03m# Resample audio objects to 16kHz\u001b[39;00m\n\u001b[32m      5\u001b[39m audio_16kHz = resample_audios(audio_mono, target_rate=\u001b[32m16000\u001b[39m)\n",
      "\u001b[31mNameError\u001b[39m: name 'audio_objects' is not defined"
     ]
    }
   ],
   "source": [
    "# Downmix audio objects to mono\n",
    "audio_mono = downmix_audios_to_mono(audio_objects)\n",
    "\n",
    "# Resample audio objects to 16kHz\n",
    "audio_16kHz = resample_audios(audio_mono, target_rate=16000)"
   ]
  },
  {
   "cell_type": "markdown",
   "id": "a2429881-1cf1-4894-910f-cdc3b7da90b2",
   "metadata": {},
   "source": [
    "## Step 3: Visualizing Waveforms and Spectrograms\n",
    "Finally, we will plot the waveform and spectrogram for each audio file. This will help us visually analyze the audio characteristics."
   ]
  },
  {
   "cell_type": "code",
   "execution_count": 5,
   "id": "d7802ae1-af7f-4069-b9e7-c3057add972c",
   "metadata": {},
   "outputs": [
    {
     "ename": "NameError",
     "evalue": "name 'audio_16kHz' is not defined",
     "output_type": "error",
     "traceback": [
      "\u001b[31m---------------------------------------------------------------------------\u001b[39m",
      "\u001b[31mNameError\u001b[39m                                 Traceback (most recent call last)",
      "\u001b[36mCell\u001b[39m\u001b[36m \u001b[39m\u001b[32mIn[5]\u001b[39m\u001b[32m, line 2\u001b[39m\n\u001b[32m      1\u001b[39m \u001b[38;5;66;03m# Plot waveforms and spectrograms for each audio file\u001b[39;00m\n\u001b[32m----> \u001b[39m\u001b[32m2\u001b[39m \u001b[38;5;28;01mfor\u001b[39;00m audio \u001b[38;5;129;01min\u001b[39;00m \u001b[43maudio_16kHz\u001b[49m:\n\u001b[32m      3\u001b[39m     plot_waveform_and_specgram(audio)\n",
      "\u001b[31mNameError\u001b[39m: name 'audio_16kHz' is not defined"
     ]
    }
   ],
   "source": [
    "# Plot waveforms and spectrograms for each audio file\n",
    "for audio in audio_16kHz:\n",
    "    plot_waveform_and_specgram(audio)"
   ]
  },
  {
   "cell_type": "code",
   "execution_count": null,
   "id": "d96be648-5345-4282-89b5-48cd4979a3f2",
   "metadata": {},
   "outputs": [],
   "source": []
  }
 ],
 "metadata": {
  "kernelspec": {
   "display_name": "Python 3 (ipykernel)",
   "language": "python",
   "name": "python3"
  },
  "language_info": {
   "codemirror_mode": {
    "name": "ipython",
    "version": 3
   },
   "file_extension": ".py",
   "mimetype": "text/x-python",
   "name": "python",
   "nbconvert_exporter": "python",
   "pygments_lexer": "ipython3",
   "version": "3.12.7"
  }
 },
 "nbformat": 4,
 "nbformat_minor": 5
}
