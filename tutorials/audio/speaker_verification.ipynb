{
    "cells": [
        {
            "cell_type": "markdown",
            "metadata": {},
            "source": [
                "\n",
                "#### Speaker Verification\n",
                "Speaker Verification is a process in which an audio system determines whether a given set of speech samples are from the same speaker. This technology is widely used in various applications such as security systems, authentication processes, and personalized user experiences. The core concept revolves around comparing voice characteristics extracted from speech samples to verify the identity of the speaker.\n",
                "\n",
                "Speaker verification can be done in SenseLab as follows:"
            ]
        },
        {
            "cell_type": "code",
            "execution_count": null,
            "metadata": {},
            "outputs": [
                {
                    "ename": "",
                    "evalue": "",
                    "output_type": "error",
                    "traceback": [
                        "\u001b[1;31mThe kernel failed to start as '/Users/isaacbevers/Library/Python/3.10/lib/python/site-packages/psutil/_psutil_osx.abi3.so' could not be imported from '/Users/isaacbevers/Library/Python/3.10/lib/python/site-packages/psutil/_psutil_osx.abi3.so, 0x0002'.\n",
                        "\u001b[1;31mClick <a href='https://aka.ms/kernelFailuresModuleImportErrFromFile'>here</a> for more info."
                    ]
                }
            ],
            "source": [
                "# Import necessary libraries\n",
                "from senselab.audio.data_structures import Audio\n",
                "from senselab.audio.tasks.speaker_verification.speaker_verification import verify_speaker\n",
                "\n",
                "# Create two audio samples (dummy data for illustration purposes)\n",
                "audio1 = Audio(signal=[0.1, 0.2, 0.3], sampling_rate=16000)\n",
                "audio2 = Audio(signal=[0.1, 0.2, 0.3], sampling_rate=16000)\n",
                "\n",
                "# List of audio pairs to compare\n",
                "audio_pairs = [(audio1, audio2)]\n",
                "\n",
                "# Verify if the audios are from the same speaker\n",
                "results = verify_speaker(audio_pairs)\n",
                "\n",
                "# Print the results\n",
                "for score, is_same_speaker in results:\n",
                "    print(f\"Verification Score: {score}, Same Speaker: {is_same_speaker}\")"
            ]
        },
        {
            "cell_type": "markdown",
            "metadata": {},
            "source": [
                "The verify_speaker function is designed to accomplish the task of speaker verification using a pre-trained model. Here's a breakdown of how the function achieves this:\n",
                "\n",
                "Input Data: The function takes a list of tuples, where each tuple contains two audio samples to be compared. Each audio sample is represented by an Audio object which includes the signal data and sampling rate.\n",
                "\n",
                "Model and Device Setup: The function uses a pre-trained speaker verification model (SpeechBrainModel). It also selects the appropriate device (CPU or GPU) to run the model efficiently.\n",
                "\n",
                "Sampling Rate Check: The function ensures that the audio samples have a sampling rate of 16kHz, as this is the rate the model was trained on. If the sampling rate does not match, it raises an error.\n",
                "\n",
                "Embedding Extraction: For each pair of audio samples, the function extracts speaker embeddings using the SpeechBrainEmbeddings module. Embeddings are numerical representations that capture the unique characteristics of a speaker's voice.\n",
                "\n",
                "Cosine Similarity Calculation: The function calculates the cosine similarity between the embeddings of the two audio samples. Cosine similarity is a measure of similarity between two vectors, where a higher value indicates greater similarity.\n",
                "\n",
                "Threshold Comparison: The function compares the calculated similarity score against a predefined threshold (default is 0.25). If the score exceeds the threshold, it indicates that the two audio samples are likely from the same speaker.\n",
                "\n",
                "Output: The function returns a list of tuples, each containing the similarity score and a boolean indicating whether the two audio samples are from the same speaker."
            ]
        }
    ],
    "metadata": {
        "kernelspec": {
            "display_name": "senselab-_dRIpWVy-py3.10",
            "language": "python",
            "name": "python3"
        },
        "language_info": {
            "name": "python",
            "version": "3.10.11"
        }
    },
    "nbformat": 4,
    "nbformat_minor": 2
}
