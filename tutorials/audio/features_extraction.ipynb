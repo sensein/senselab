{
    "cells": [
        {
            "cell_type": "markdown",
            "metadata": {},
            "source": [
                "# Features extraction tutorial\n",
                "\n",
                "[![Open In Colab](https://colab.research.google.com/assets/colab-badge.svg)](https://colab.research.google.com/github/sensein/senselab/blob/main/tutorials/audio/features_extraction.ipynb)\n",
                "\n",
                "\n",
                "In this tutorial, we will explore how to extract some audio descriptors with the `senselab` package. Descriptors include acoustic and quality measures and are extracted with different libraries. "
            ]
        },
        {
            "cell_type": "code",
            "execution_count": null,
            "metadata": {},
            "outputs": [],
            "source": [
                "# Imports\n",
                "from senselab.audio.data_structures import Audio\n",
                "from senselab.audio.tasks.features_extraction.api import extract_features_from_audios\n",
                "from senselab.audio.tasks.preprocessing import downmix_audios_to_mono, resample_audios"
            ]
        },
        {
            "cell_type": "code",
            "execution_count": null,
            "metadata": {},
            "outputs": [],
            "source": [
                "# Load audio\n",
                "audio2 = Audio.from_filepath(\"../../src/tests/data_for_testing/audio_48khz_stereo_16bits.wav\")\n",
                "\n",
                "# Downmix to mono\n",
                "audio2 = downmix_audios_to_mono([audio2])[0]\n",
                "\n",
                "# Resample both audios to 16kHz\n",
                "audios = resample_audios([audio2], 16000)"
            ]
        },
        {
            "cell_type": "code",
            "execution_count": null,
            "metadata": {},
            "outputs": [],
            "source": [
                "extract_features_from_audios(audios=audios,\n",
                "                                      opensmile=True,\n",
                "                                      parselmouth=True,\n",
                "                                      torchaudio=True,\n",
                "                                      torchaudio_squim=True)"
            ]
        },
        {
            "cell_type": "markdown",
            "metadata": {},
            "source": [
                " ## Extracting health measurements from audio files\n",
                "\n",
                "As part of our ongoing efforts in `senselab`, we are curating and maintaining a selection of metrics that show promise for health assessment and monitoring. Please refer to the documentation for further details. Below is a guide to easily extract these metrics."
            ]
        },
        {
            "cell_type": "code",
            "execution_count": null,
            "metadata": {},
            "outputs": [],
            "source": [
                "from senselab.audio.workflows.health_measurements.extract_health_measurements import extract_health_measurements\n",
                "\n",
                "extract_health_measurements(audios=audios)"
            ]
        }
    ],
    "metadata": {
        "kernelspec": {
            "display_name": "senselab-KP8v1V64-py3.10",
            "language": "python",
            "name": "python3"
        },
        "language_info": {
            "codemirror_mode": {
                "name": "ipython",
                "version": 3
            },
            "file_extension": ".py",
            "mimetype": "text/x-python",
            "name": "python",
            "nbconvert_exporter": "python",
            "pygments_lexer": "ipython3",
            "version": "3.10.10"
        }
    },
    "nbformat": 4,
    "nbformat_minor": 2
}
