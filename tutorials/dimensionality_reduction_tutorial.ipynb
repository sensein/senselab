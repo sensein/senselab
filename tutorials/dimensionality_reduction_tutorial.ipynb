{
    "cells": [
        {
            "cell_type": "markdown",
            "metadata": {},
            "source": [
                "# Dimensionality Reduction Tutorial\n",
                "\n",
                "[![Open In Colab](https://colab.research.google.com/assets/colab-badge.svg)](https://colab.research.google.com/github/sensein/senselab/blob/main/tutorials/dimensionality_reduction_tutorial.ipynb)\n",
                "\n",
                "\n",
                "In this tutorial, we'll explore how to use dsenselab to emplot dimensionality reduction techniques to visualize high-dimensional data. We'll use the scikit-learn digits dataset as our example, but this can be extended to any high-dimensionality dataset, such as a set of speaker embeddings.\n",
                "\n",
                "Senselab supports 3 dimensionality reduction techniques, and we will cover all of them in this tutorial:\n",
                "\n",
                "- Principal Component Analysis (PCA)\n",
                "- t-Distributed Stochastic Neighbor Embedding (t-SNE)\n",
                "- Uniform Manifold Approximation and Projection (UMAP)\n",
                "\n",
                "First, let's import the necessary libraries:"
            ]
        },
        {
            "cell_type": "code",
            "execution_count": null,
            "metadata": {},
            "outputs": [],
            "source": [
                "# %pip install senselab\n",
                "from sklearn.datasets import load_digits\n",
                "from senselab.utils.tasks.dimensionality_reduction import compute_dimensionality_reduction\n",
                "\n",
                "import torch\n",
                "import senselab\n",
                "import matplotlib.pyplot as plt"
            ]
        },
        {
            "cell_type": "markdown",
            "metadata": {},
            "source": [
                "## Load the scikit-learn digits dataset\n",
                "We'll use the digits dataset from scikit-learn for our high-dimensionality dataset. Each sample is an 8x8 image of a hand-written digit, and has a dimensionality of 64.\n",
                "\n",
                "Senselab expects the data to be in a pytorch tensor, so we make sure to convert the data into a tensor before processing it.\n",
                "\n",
                "See here for more information on the dataset: [https://scikit-learn.org/stable/modules/generated/sklearn.datasets.load_digits.html](https://scikit-learn.org/stable/modules/generated/sklearn.datasets.load_digits.html)"
            ]
        },
        {
            "cell_type": "code",
            "execution_count": null,
            "metadata": {},
            "outputs": [],
            "source": [
                "# Load the digits dataset\n",
                "digits = load_digits()\n",
                "digits_data = digits.data\n",
                "digits_target = digits.target\n",
                "\n",
                "# Convert to PyTorch tensor\n",
                "digits_data = torch.tensor(digits_data, dtype=torch.float32)\n",
                "\n",
                "# Look at the shape of the data. There are 1797 samples and each sample has 64 features\n",
                "digits_data.shape"
            ]
        },
        {
            "cell_type": "markdown",
            "metadata": {},
            "source": [
                "## Using and visualizing PCA\n",
                "Principal Component Analysis (PCA) is a linear dimensionality reduction technique that identifies the directions (principal components) along which the data varies the most. Senselab makes it easy to use PCA to analyze any dataset with a single command. Note that after running PCA, the dimensionality of the data reduces from 64 into 2 PCA components, making it easy to plot or analyze further."
            ]
        },
        {
            "cell_type": "code",
            "execution_count": null,
            "metadata": {},
            "outputs": [],
            "source": [
                "# Perform PCA analysis on the digits dataset\n",
                "reduced_data_pca = compute_dimensionality_reduction(digits_data, model=\"pca\", n_components=2)\n",
                "\n",
                "print(\"Reduced data shape:\", reduced_data_pca.shape)\n",
                "\n",
                "# Plot the reduced data\n",
                "plt.figure(figsize=(12, 8))\n",
                "scatter = plt.scatter(reduced_data_pca[:, 0], reduced_data_pca[:, 1], c=digits_target, cmap='tab10')\n",
                "plt.title(\"PCA Analysis of Digits Dataset\")\n",
                "plt.xlabel(\"PCA Component 1\")\n",
                "plt.ylabel(\"PCA Component 2\")\n",
                "plt.colorbar(scatter, label=\"Digit\")\n",
                "plt.show()"
            ]
        },
        {
            "cell_type": "markdown",
            "metadata": {},
            "source": [
                "## Using and visualizing t-SNE\n",
                "t-SNE is a non-linear technique that's particularly good at preserving local structures in the data, making it useful for visualization. Using the same senselab function as in PCA, change `model=\"pca\"` into `model=\"tsne\"` to use t-SNE to reduce the data."
            ]
        },
        {
            "cell_type": "code",
            "execution_count": null,
            "metadata": {},
            "outputs": [],
            "source": [
                "# Perform t-SNE analysis on the digits dataset\n",
                "reduced_data_tsne = compute_dimensionality_reduction(digits_data, model=\"tsne\", n_components=2)\n",
                "\n",
                "print(\"Reduced data shape:\", reduced_data_tsne.shape)\n",
                "\n",
                "# Plot the reduced data\n",
                "plt.figure(figsize=(12, 8))\n",
                "scatter = plt.scatter(reduced_data_tsne[:, 0], reduced_data_tsne[:, 1], c=digits_target, cmap='tab10')\n",
                "plt.title(\"t-SNE of Digits Dataset\")\n",
                "plt.xlabel(\"t-SNE Component 1\")\n",
                "plt.ylabel(\"t-SNE Component 2\")\n",
                "plt.colorbar(scatter, label=\"Digit\")\n",
                "plt.show()"
            ]
        },
        {
            "cell_type": "markdown",
            "metadata": {},
            "source": [
                "## Using and visualizing UMAP\n",
                "UMAP is another non-linear technique that often provides a good balance between preserving local and global structures in the data."
            ]
        },
        {
            "cell_type": "code",
            "execution_count": null,
            "metadata": {},
            "outputs": [],
            "source": [
                "# Perform UMAP analysis on the digits dataset\n",
                "reduced_data_umap = compute_dimensionality_reduction(digits_data, model=\"umap\", n_components=2)\n",
                "\n",
                "print(\"Reduced data shape:\", reduced_data_umap.shape)\n",
                "\n",
                "# Plot the reduced data\n",
                "plt.figure(figsize=(12, 8))\n",
                "scatter = plt.scatter(reduced_data_umap[:, 0], reduced_data_umap[:, 1], c=digits_target, cmap='tab10')\n",
                "plt.title(\"UMAP of Digits Dataset\")\n",
                "plt.xlabel(\"UMAP Component 1\")\n",
                "plt.ylabel(\"UMAP Component 2\")\n",
                "plt.colorbar(scatter, label=\"Digit\")\n",
                "plt.show()"
            ]
        },
        {
            "cell_type": "markdown",
            "metadata": {},
            "source": [
                "## Using custom parameters\n",
                "Senselab makes it easy to use custom parameters for each of these models. To do so, add the required parameters in the `compute_dimensionality_reduction` function. Make sure to use the parameters as specified in the `scikit-learn` or `umap-learn` packages, linked below.\n",
                "\n",
                "As an example, the performance of t-SNE can be sensitive to its parameters, particularly the perplexity. The following code provides an example of using a custom perplexity with t-SNE in senselab."
            ]
        },
        {
            "cell_type": "code",
            "execution_count": null,
            "metadata": {},
            "outputs": [],
            "source": [
                "reduced_data_tsne_custom_params = compute_dimensionality_reduction(digits_data, model=\"tsne\", n_components=2, perplexity=5)\n",
                "\n",
                "print(\"Reduced data shape:\", reduced_data_tsne_custom_params.shape)\n",
                "\n",
                "plt.figure(figsize=(12, 8))\n",
                "scatter = plt.scatter(reduced_data_tsne_custom_params[:, 0], reduced_data_tsne_custom_params[:, 1], c=digits_target, cmap='tab10')\n",
                "plt.title(\"t-SNE of Digits Dataset (perplexity=5)\")\n",
                "plt.xlabel(\"t-SNE Component 1\")\n",
                "plt.ylabel(\"t-SNE Component 2\")\n",
                "plt.colorbar(scatter, label=\"Digit\")\n",
                "plt.show()"
            ]
        },
        {
            "cell_type": "markdown",
            "metadata": {},
            "source": [
                "## Implementation Details and Further Reading\n",
                "\n",
                "Senselab uses implementations from scikit-learn for PCA and t-SNE, and the umap-learn library for UMAP. For detailed information about each method and its parameters, please refer to the following documentation:\n",
                "\n",
                "- PCA: https://scikit-learn.org/stable/modules/generated/sklearn.decomposition.PCA.html\n",
                "- t-SNE: https://scikit-learn.org/stable/modules/generated/sklearn.manifold.TSNE.html\n",
                "- UMAP: https://umap-learn.readthedocs.io/en/latest/api.html"
            ]
        }
    ],
    "metadata": {
        "kernelspec": {
            "display_name": "senselab",
            "language": "python",
            "name": "python3"
        },
        "language_info": {
            "codemirror_mode": {
                "name": "ipython",
                "version": 3
            },
            "file_extension": ".py",
            "mimetype": "text/x-python",
            "name": "python",
            "nbconvert_exporter": "python",
            "pygments_lexer": "ipython3",
            "version": "3.12.0"
        }
    },
    "nbformat": 4,
    "nbformat_minor": 2
}
